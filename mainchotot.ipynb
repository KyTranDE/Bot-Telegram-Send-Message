{
 "cells": [
  {
   "cell_type": "code",
   "execution_count": 3,
   "metadata": {},
   "outputs": [
    {
     "ename": "TypeError",
     "evalue": "can only concatenate str (not \"NoneType\") to str",
     "output_type": "error",
     "traceback": [
      "\u001b[1;31m---------------------------------------------------------------------------\u001b[0m",
      "\u001b[1;31mTypeError\u001b[0m                                 Traceback (most recent call last)",
      "Cell \u001b[1;32mIn[3], line 38\u001b[0m\n\u001b[0;32m     35\u001b[0m         getData(url)\n\u001b[0;32m     37\u001b[0m \u001b[38;5;28;01mif\u001b[39;00m \u001b[38;5;18m__name__\u001b[39m \u001b[38;5;241m==\u001b[39m \u001b[38;5;124m'\u001b[39m\u001b[38;5;124m__main__\u001b[39m\u001b[38;5;124m'\u001b[39m:\n\u001b[1;32m---> 38\u001b[0m     \u001b[43mmain\u001b[49m\u001b[43m(\u001b[49m\u001b[43m)\u001b[49m\n",
      "Cell \u001b[1;32mIn[3], line 35\u001b[0m, in \u001b[0;36mmain\u001b[1;34m()\u001b[0m\n\u001b[0;32m     31\u001b[0m \u001b[38;5;66;03m# with ThreadPoolExecutor(max_workers=10) as executor:\u001b[39;00m\n\u001b[0;32m     32\u001b[0m \u001b[38;5;66;03m#     executor.map(getData, listUrl)\u001b[39;00m\n\u001b[0;32m     34\u001b[0m \u001b[38;5;28;01mfor\u001b[39;00m url \u001b[38;5;129;01min\u001b[39;00m listUrl:\n\u001b[1;32m---> 35\u001b[0m     \u001b[43mgetData\u001b[49m\u001b[43m(\u001b[49m\u001b[43murl\u001b[49m\u001b[43m)\u001b[49m\n",
      "Cell \u001b[1;32mIn[3], line 19\u001b[0m, in \u001b[0;36mgetData\u001b[1;34m(urlchotot)\u001b[0m\n\u001b[0;32m     15\u001b[0m data \u001b[38;5;241m=\u001b[39m {}\n\u001b[0;32m     16\u001b[0m \u001b[38;5;66;03m# data[\"name\"] = result.find('h3',class_=\"adonovt\").text\u001b[39;00m\n\u001b[0;32m     17\u001b[0m \u001b[38;5;66;03m# data[\"year\"] = result.find('span', class_='c1u6gyxh').text\u001b[39;00m\n\u001b[0;32m     18\u001b[0m \u001b[38;5;66;03m# data[\"price\"] = result.find('span', class_='bfe6oav').text\u001b[39;00m\n\u001b[1;32m---> 19\u001b[0m newRequest \u001b[38;5;241m=\u001b[39m requests\u001b[38;5;241m.\u001b[39mget(\u001b[38;5;124;43m\"\u001b[39;49m\u001b[38;5;124;43mhttps://xe.chotot.com\u001b[39;49m\u001b[38;5;124;43m\"\u001b[39;49m\u001b[38;5;241;43m+\u001b[39;49m\u001b[43mresult\u001b[49m\u001b[38;5;241;43m.\u001b[39;49m\u001b[43mfind\u001b[49m\u001b[43m(\u001b[49m\u001b[38;5;124;43m'\u001b[39;49m\u001b[38;5;124;43ma\u001b[39;49m\u001b[38;5;124;43m'\u001b[39;49m\u001b[43m,\u001b[49m\u001b[43mattrs\u001b[49m\u001b[38;5;241;43m=\u001b[39;49m\u001b[43m{\u001b[49m\u001b[38;5;124;43m'\u001b[39;49m\u001b[38;5;124;43mitemprop\u001b[39;49m\u001b[38;5;124;43m'\u001b[39;49m\u001b[43m:\u001b[49m\u001b[38;5;124;43m'\u001b[39;49m\u001b[38;5;124;43mitem\u001b[39;49m\u001b[38;5;124;43m'\u001b[39;49m\u001b[43m}\u001b[49m\u001b[43m)\u001b[49m\u001b[38;5;241;43m.\u001b[39;49m\u001b[43mget\u001b[49m\u001b[43m(\u001b[49m\u001b[38;5;124;43m'\u001b[39;49m\u001b[38;5;124;43msrc\u001b[39;49m\u001b[38;5;124;43m'\u001b[39;49m\u001b[43m)\u001b[49m)\n\u001b[0;32m     20\u001b[0m newSoup \u001b[38;5;241m=\u001b[39m BeautifulSoup(newRequest\u001b[38;5;241m.\u001b[39mtext, \u001b[38;5;124m'\u001b[39m\u001b[38;5;124mhtml.parser\u001b[39m\u001b[38;5;124m'\u001b[39m)\n\u001b[0;32m     21\u001b[0m \u001b[38;5;28mprint\u001b[39m(\u001b[38;5;241m1\u001b[39m)\n",
      "\u001b[1;31mTypeError\u001b[0m: can only concatenate str (not \"NoneType\") to str"
     ]
    }
   ],
   "source": [
    "import requests\n",
    "import yaml\n",
    "from bs4 import BeautifulSoup\n",
    "import json\n",
    "from concurrent.futures import ThreadPoolExecutor\n",
    "\n",
    "with open('./config/config.yml', 'r') as f:\n",
    "    config = yaml.safe_load(f)\n",
    "    \n",
    "def getData(urlchotot):\n",
    "    response = requests.get(url=urlchotot)\n",
    "    soup = BeautifulSoup(response.text, 'html.parser')\n",
    "    all_results = soup.find_all('div', attrs={'tabindex':\"0\"})\n",
    "    for result in all_results:\n",
    "        data = {}\n",
    "        # data[\"name\"] = result.find('h3',class_=\"adonovt\").text\n",
    "        # data[\"year\"] = result.find('span', class_='c1u6gyxh').text\n",
    "        # data[\"price\"] = result.find('span', class_='bfe6oav').text\n",
    "        newRequest = requests.get(\"https://xe.chotot.com\"+result.find('a',attrs={'itemprop':'item'}).get('src'))\n",
    "        newSoup = BeautifulSoup(newRequest.text, 'html.parser')\n",
    "        print(1)\n",
    "        data['image'] = newSoup.findAll('img', attrs={'sizes':'100vw'})[1].get('srcset')\n",
    "        # data[\"description\"] = newSoup.find('p', attrs={'itemprop':'description'}).text\n",
    "        # data[\"urlcar\"] = \"https://xe.chotot.com\"+result.find('a',attrs={'itemprop':'item'}).get('href')\n",
    "        print(json.dumps(data, ensure_ascii=False, indent=2))\n",
    "\n",
    "def main():\n",
    "    urlchotot = config['url']['urlchotot']\n",
    "    listUrl = [urlchotot.format(i) for i in range(1, 5)]\n",
    "\n",
    "    # with ThreadPoolExecutor(max_workers=10) as executor:\n",
    "    #     executor.map(getData, listUrl)\n",
    "\n",
    "    for url in listUrl:\n",
    "        getData(url)\n",
    "\n",
    "if __name__ == '__main__':\n",
    "    main()\n"
   ]
  },
  {
   "cell_type": "code",
   "execution_count": null,
   "metadata": {},
   "outputs": [],
   "source": [
    "from Utils.postgres_tool import PostgresTool\n",
    "import yaml\n",
    "with open('./config/config.yml', 'r') as f:\n",
    "    config = yaml.safe_load(f)\n",
    "\n",
    "db_params = config['database']\n",
    "# import psycopg2\n",
    "# try:\n",
    "#     connection = psycopg2.connect(**db_params)\n",
    "#     cursor = connection.cursor()\n",
    "    \n",
    "#     # Execute a simple query\n",
    "#     cursor.execute(\"SELECT version();\")\n",
    "#     record = cursor.fetchone()\n",
    "#     print(\"You are connected to - \", record, \"\\n\")\n",
    "    \n",
    "#     # Close the cursor and connection\n",
    "#     cursor.close()\n",
    "#     connection.close()\n",
    "# except Exception as error:\n",
    "#     print(\"Error while connecting to PostgreSQL\", error)\n",
    "conn = PostgresTool(**db_params)\n",
    "conn.get_all_table()"
   ]
  },
  {
   "attachments": {
    "image.png": {
     "image/png": "[encoded data removed]"
    }
   },
   "cell_type": "markdown",
   "metadata": {},
   "source": [
    "![image.png](attachment:image.png)"
   ]
  },
  {
   "cell_type": "code",
   "execution_count": 4,
   "metadata": {},
   "outputs": [
    {
     "name": "stdout",
     "output_type": "stream",
     "text": [
      "{'host': 'localhost', 'port': 6377, 'db': 0}\n",
      "{\n",
      "  \"name\": \"Hyundai SantaFe 2021 Full Xăng Đi 55,000km Màu Đen\",\n",
      "  \"price\": \"875.000.000 đ\",\n",
      "  \"location\": \"Phường Tân Phong, Quận 7, Tp Hồ Chí Minh\",\n",
      "  \"urlcar\": \"https://xe.chotot.com/mua-ban-oto-quan-7-tp-ho-chi-minh/118495855.htm#px=SR-stickyad-[PO-1][PL-top]\",\n",
      "  \"image\": \"https://xe.chotot.com/_next/image?url=https%3A%2F%2Fcdn.chotot.com%2F13bCWO1rnYEQ24Z12bEme5w1tig5T0szpzUfLmLDn4k%2Fpreset%3Aview%2Fplain%2F87f8f9ec8b7c38905fb764d4b5473fe5-2890790255025597827.jpg&w=3840&q=100\"\n",
      "}\n",
      "{\n",
      "  \"name\": \"Fortuner 2022 Máy Dầu Tự Động Odo 29,000km Zin Đẹp\",\n",
      "  \"price\": \"995.000.000 đ\",\n",
      "  \"location\": \"Phường Tân Phong, Quận 7, Tp Hồ Chí Minh\",\n",
      "  \"urlcar\": \"https://xe.chotot.com/mua-ban-oto-quan-7-tp-ho-chi-minh/118506037.htm#px=SR-stickyad-[PO-2][PL-top]\",\n",
      "  \"image\": \"https://xe.chotot.com/_next/image?url=https%3A%2F%2Fcdn.chotot.com%2FwRGKoIImCXkbmkHFVcJev8z33Xtck-iM0h63EcTaE8s%2Fpreset%3Aview%2Fplain%2F484e385e0e1673571540ee485f9c1d8a-2890868056276910838.jpg&w=3840&q=100\"\n",
      "}\n",
      "{\n",
      "  \"name\": \"VINFAST VF5 VAY CAO, CHI PHÍ 60-70tr, XE KD, GRAP\",\n",
      "  \"price\": \"468.000.000 đ\",\n",
      "  \"location\": \"Phường An Lạc, Quận Bình Tân, Tp Hồ Chí Minh\",\n",
      "  \"urlcar\": \"https://xe.chotot.com/mua-ban-oto-quan-binh-tan-tp-ho-chi-minh/105819944.htm#px=SR-stickyad-[PO-3][PL-top]\",\n",
      "  \"image\": \"https://xe.chotot.com/_next/image?url=https%3A%2F%2Fcdn.chotot.com%2FR72eHEIIm1RqpmEGDqa_F_bCnDp-TTChxHka6WgecxY%2Fpreset%3Aview%2Fplain%2F171f79aa9266a492dc462eea75712331-2822325994098010031.jpg&w=3840&q=100\"\n",
      "}\n",
      "{\n",
      "  \"name\": \"Honda City RS 2021 Lướt 24,000km Zin Đẹp Ko Tì Vết\",\n",
      "  \"price\": \"489.000.000 đ\",\n",
      "  \"location\": \"Phường Tân Phong, Quận 7, Tp Hồ Chí Minh\",\n",
      "  \"urlcar\": \"https://xe.chotot.com/mua-ban-oto-quan-7-tp-ho-chi-minh/118545708.htm#px=SR-stickyad-[PO-4][PL-top]\",\n",
      "  \"image\": \"https://xe.chotot.com/_next/image?url=https%3A%2F%2Fcdn.chotot.com%2F31BCnnYS-gMlNE1WBCq4ZRQiG_wCGmvX6anvSRpCPV4%2Fpreset%3Aview%2Fplain%2Ff35ac43f750dcbd8c4658b906933f00b-2891058553588663030.jpg&w=3840&q=100\"\n",
      "}\n",
      "{\n",
      "  \"name\": \"⭐ TOYOTA INNOVA 2.0E 2018 MT\",\n",
      "  \"price\": \"480.000.000 đ\",\n",
      "  \"location\": \"Phường An Phú, Thành phố Thuận An, Bình Dương\",\n",
      "  \"urlcar\": \"https://xe.chotot.com/mua-ban-oto-thanh-pho-thuan-an-binh-duong/116667962.htm#px=SR-stickyad-[PO-5][PL-top]\",\n",
      "  \"image\": \"https://xe.chotot.com/_next/image?url=https%3A%2F%2Fcdn.chotot.com%2F6FZFjelzGW37an6SOWbNCuZ1dBPlOKNqpqzQksl6YR8%2Fpreset%3Aview%2Fplain%2Fb01b0b100f656735cb2ccda6d2504483-2880424976203934009.jpg&w=3840&q=100\"\n",
      "}\n",
      "{\n",
      "  \"name\": \"✅️Chính hãng✅️Giá lăn bánh Ford Ranger\",\n",
      "  \"price\": \"707.000.000 đ\",\n",
      "  \"location\": \"Phường Tây Thạnh, Quận Tân Phú, Tp Hồ Chí Minh\",\n",
      "  \"urlcar\": \"https://xe.chotot.com/mua-ban-oto-quan-tan-phu-tp-ho-chi-minh/118569270.htm\",\n",
      "  \"image\": \"https://xe.chotot.com/_next/image?url=https%3A%2F%2Fcdn.chotot.com%2Fy5JIwbtGj1gRVD66kTDTf3YQK24P1eVs7FzyH92hoxw%2Fpreset%3Aview%2Fplain%2Fb46d897b29f35d489e240a94a3de628b-2891195079432454902.jpg&w=3840&q=100\"\n",
      "}\n",
      "{\n",
      "  \"name\": \"Cần lên xe mới nên mới bán xe tâm huyết caffe\",\n",
      "  \"price\": \"50.000.000 đ\",\n",
      "  \"location\": \"Phường Long Bình, Thành phố Biên Hòa, Đồng Nai\",\n",
      "  \"urlcar\": \"https://xe.chotot.com/mua-ban-oto-thanh-pho-bien-hoa-dong-nai/116806954.htm\",\n",
      "  \"image\": \"https://xe.chotot.com/_next/image?url=https%3A%2F%2Fcdn.chotot.com%2Fk7uWbwYA28v1Ga9CJtTtLuJ45cp4g5IingaW5e62qkg%2Fpreset%3Aview%2Fplain%2Ff8e713d0065a9a3b31d70679093d899c-2888103958677494582.jpg&w=3840&q=100\"\n",
      "}\n",
      "{\n",
      "  \"name\": \"🚘Toyota Vios 2019 1.5E Số Sàn💥 Odo~20.000km\",\n",
      "  \"price\": \"360.000.000 đ\",\n",
      "  \"location\": \"Phường Tây Thạnh, Quận Tân Phú, Tp Hồ Chí Minh\",\n",
      "  \"urlcar\": \"https://xe.chotot.com/mua-ban-oto-quan-tan-phu-tp-ho-chi-minh/118569252.htm\",\n",
      "  \"image\": \"https://xe.chotot.com/_next/image?url=https%3A%2F%2Fcdn.chotot.com%2FrZYB2bJpwTK4maQ-EnjHPTWrkYUJv6m3n5wfwTFneu0%2Fpreset%3Aview%2Fplain%2F4a106fa6a2838cb7b4a725fcb55f4b94-2891194852353125763.jpg&w=3840&q=100\"\n",
      "}\n",
      "{\n",
      "  \"name\": \"Toyota Camry 2013 bản 6399, xe đẹp, giá tốt\",\n",
      "  \"price\": \"485.000.000 đ\",\n",
      "  \"location\": \"Phường Thanh Khê Đông, Quận Thanh Khê, Đà Nẵng\",\n",
      "  \"urlcar\": \"https://xe.chotot.com/mua-ban-oto-quan-thanh-khe-da-nang/118569251.htm\",\n",
      "  \"image\": \"https://xe.chotot.com/_next/image?url=https%3A%2F%2Fcdn.chotot.com%2FScUqLqBk0Ytl4ODj7MV3Cfd6Vu-eG1XoZq6OuHUMqEc%2Fpreset%3Aview%2Fplain%2F997965e3e55bb1daa5845ddc5c6e8ef9-2891194649087264952.jpg&w=3840&q=100\"\n",
      "}\n",
      "{\n",
      "  \"name\": \"Hyundai Grand i10 2016 1.0 AT - 180050 km\",\n",
      "  \"price\": \"14.800.000 đ\",\n",
      "  \"location\": \"Xã Đồng Lợi, Huyện Triệu Sơn, Thanh Hóa\",\n",
      "  \"urlcar\": \"https://xe.chotot.com/mua-ban-oto-huyen-trieu-son-thanh-hoa/118569250.htm#px=SR-special_display_ad-[PO-10][PL-default]\",\n",
      "  \"image\": \"https://xe.chotot.com/_next/image?url=https%3A%2F%2Fcdn.chotot.com%2FnkaqpPgh-RescotExfnjViLmhH8AWiaz5JESITW9Vtw%2Fpreset%3Aview%2Fplain%2F8d8000318e505041aac5015c88ba6a31-2891192127978767205.jpg&w=3840&q=100\"\n",
      "}\n"
     ]
    },
    {
     "name": "stderr",
     "output_type": "stream",
     "text": [
      "d:\\ETL-out\\.venv\\Lib\\site-packages\\bs4\\builder\\__init__.py:311: RuntimeWarning: coroutine 'sendBot' was never awaited\n",
      "  universal = self.cdata_list_attributes.get('*', [])\n",
      "RuntimeWarning: Enable tracemalloc to get the object allocation traceback\n"
     ]
    },
    {
     "name": "stdout",
     "output_type": "stream",
     "text": [
      "{\n",
      "  \"name\": \"Hyundai Accent 2018 1.4 MT - 450000 km\",\n",
      "  \"price\": \"300.000.000 đ\",\n",
      "  \"location\": \"Phường Trường An, Thành phố Huế, Thừa Thiên Huế\",\n",
      "  \"urlcar\": \"https://xe.chotot.com/mua-ban-oto-thanh-pho-hue-thua-thien-hue/118569236.htm\",\n",
      "  \"image\": \"https://xe.chotot.com/_next/image?url=https%3A%2F%2Fcdn.chotot.com%2FL5pDyicsRekNk5DCOcPbeZooPBRzcOyHT2ror-t61Ek%2Fpreset%3Aview%2Fplain%2Fe04a6545089c74b84d1e6429d8c8dc1c-2891190764005378317.jpg&w=3840&q=100\"\n",
      "}\n",
      "{\n",
      "  \"name\": \"Mazda CX 5 Deluxe Sx 2023 moden 2024\",\n",
      "  \"price\": \"765.000.000 đ\",\n",
      "  \"location\": \"Phường Ngọc Lâm, Quận Long Biên, Hà Nội\",\n",
      "  \"urlcar\": \"https://xe.chotot.com/mua-ban-oto-quan-long-bien-ha-noi/118540510.htm\",\n",
      "  \"image\": \"https://xe.chotot.com/_next/image?url=https%3A%2F%2Fcdn.chotot.com%2F0paM_JwqmbP8_gJ3uwwQ_5UIK-lCqYg-JQP-jIfKElU%2Fpreset%3Aview%2Fplain%2F9a6c65b908d01cca97e8baeadd475d6f-2891037308004627167.jpg&w=3840&q=100\"\n",
      "}\n",
      "{\n",
      "  \"name\": \"Honda BR-V 2024 - KM 50% Thuế Tặng Kèm Phụ Kiện\",\n",
      "  \"price\": \"661.000.000 đ\",\n",
      "  \"location\": \"Phường Tân Phong, Quận 7, Tp Hồ Chí Minh\",\n",
      "  \"urlcar\": \"https://xe.chotot.com/mua-ban-oto-quan-7-tp-ho-chi-minh/116746931.htm\",\n",
      "  \"image\": \"https://xe.chotot.com/_next/image?url=https%3A%2F%2Fcdn.chotot.com%2FRHxc_4FQTRU35A06n2a_xkCVszleXNkbvlYbu2cVPYU%2Fpreset%3Aview%2Fplain%2F175330251dd8f642ea44b22b3f946619-2880860015189630947.jpg&w=3840&q=100\"\n",
      "}\n",
      "{\n",
      "  \"name\": \"Honda Brio 2021  - Xe siêu lướt\",\n",
      "  \"price\": \"390.000.000 đ\",\n",
      "  \"location\": \"Phường Tân Hưng, Quận 7, Tp Hồ Chí Minh\",\n",
      "  \"urlcar\": \"https://xe.chotot.com/mua-ban-oto-quan-7-tp-ho-chi-minh/118065327.htm#px=SR-special_display_ad-[PO-14][PL-default]\",\n",
      "  \"image\": \"https://xe.chotot.com/_next/image?url=https%3A%2F%2Fcdn.chotot.com%2F8_HGsMwWCFd73Dlz7LxP_cZdzakvQyqK8WK5Jd_kngk%2Fpreset%3Aview%2Fplain%2F8b3dcd2b5dd3c8d7434394f9532e57e4-2888399383821412484.jpg&w=3840&q=100\"\n",
      "}\n"
     ]
    },
    {
     "ename": "KeyboardInterrupt",
     "evalue": "",
     "output_type": "error",
     "traceback": [
      "\u001b[1;31m---------------------------------------------------------------------------\u001b[0m",
      "\u001b[1;31mKeyboardInterrupt\u001b[0m                         Traceback (most recent call last)",
      "Cell \u001b[1;32mIn[4], line 61\u001b[0m\n\u001b[0;32m     59\u001b[0m \u001b[38;5;28;01mif\u001b[39;00m \u001b[38;5;18m__name__\u001b[39m \u001b[38;5;241m==\u001b[39m \u001b[38;5;124m'\u001b[39m\u001b[38;5;124m__main__\u001b[39m\u001b[38;5;124m'\u001b[39m:\n\u001b[0;32m     60\u001b[0m     \u001b[38;5;28;01mwhile\u001b[39;00m \u001b[38;5;28;01mTrue\u001b[39;00m:\n\u001b[1;32m---> 61\u001b[0m         \u001b[43mmain\u001b[49m\u001b[43m(\u001b[49m\u001b[43m)\u001b[49m\n\u001b[0;32m     62\u001b[0m         \u001b[38;5;66;03m# time.sleep(30*60) # 30 p\u001b[39;00m\n\u001b[0;32m     63\u001b[0m         time\u001b[38;5;241m.\u001b[39msleep(\u001b[38;5;241m2\u001b[39m)\n",
      "Cell \u001b[1;32mIn[4], line 57\u001b[0m, in \u001b[0;36mmain\u001b[1;34m()\u001b[0m\n\u001b[0;32m     55\u001b[0m listUrl \u001b[38;5;241m=\u001b[39m [urlchotot\u001b[38;5;241m.\u001b[39mformat(i) \u001b[38;5;28;01mfor\u001b[39;00m i \u001b[38;5;129;01min\u001b[39;00m \u001b[38;5;28mrange\u001b[39m(\u001b[38;5;241m1\u001b[39m, \u001b[38;5;241m10\u001b[39m)]\n\u001b[0;32m     56\u001b[0m \u001b[38;5;28;01mfor\u001b[39;00m url \u001b[38;5;129;01min\u001b[39;00m listUrl: \n\u001b[1;32m---> 57\u001b[0m     \u001b[43mgetData\u001b[49m\u001b[43m(\u001b[49m\u001b[43murl\u001b[49m\u001b[43m)\u001b[49m\n",
      "Cell \u001b[1;32mIn[4], line 37\u001b[0m, in \u001b[0;36mgetData\u001b[1;34m(urlchotot)\u001b[0m\n\u001b[0;32m     35\u001b[0m \u001b[38;5;28mprint\u001b[39m(json\u001b[38;5;241m.\u001b[39mdumps(data, ensure_ascii\u001b[38;5;241m=\u001b[39m\u001b[38;5;28;01mFalse\u001b[39;00m, indent\u001b[38;5;241m=\u001b[39m\u001b[38;5;241m2\u001b[39m))\n\u001b[0;32m     36\u001b[0m \u001b[38;5;66;03m# send data telegram message\u001b[39;00m\n\u001b[1;32m---> 37\u001b[0m \u001b[43masyncio\u001b[49m\u001b[38;5;241;43m.\u001b[39;49m\u001b[43mrun\u001b[49m\u001b[43m(\u001b[49m\u001b[43msendBot\u001b[49m\u001b[43m(\u001b[49m\u001b[43mdata\u001b[49m\u001b[43m)\u001b[49m\u001b[43m)\u001b[49m\n",
      "File \u001b[1;32md:\\ETL-out\\.venv\\Lib\\site-packages\\nest_asyncio.py:27\u001b[0m, in \u001b[0;36m_patch_asyncio.<locals>.run\u001b[1;34m(main, debug)\u001b[0m\n\u001b[0;32m     25\u001b[0m \u001b[38;5;28;01mdef\u001b[39;00m \u001b[38;5;21mrun\u001b[39m(main, \u001b[38;5;241m*\u001b[39m, debug\u001b[38;5;241m=\u001b[39m\u001b[38;5;28;01mFalse\u001b[39;00m):\n\u001b[0;32m     26\u001b[0m     loop \u001b[38;5;241m=\u001b[39m asyncio\u001b[38;5;241m.\u001b[39mget_event_loop()\n\u001b[1;32m---> 27\u001b[0m     \u001b[43mloop\u001b[49m\u001b[38;5;241;43m.\u001b[39;49m\u001b[43mset_debug\u001b[49m\u001b[43m(\u001b[49m\u001b[43mdebug\u001b[49m\u001b[43m)\u001b[49m\n\u001b[0;32m     28\u001b[0m     task \u001b[38;5;241m=\u001b[39m asyncio\u001b[38;5;241m.\u001b[39mensure_future(main)\n\u001b[0;32m     29\u001b[0m     \u001b[38;5;28;01mtry\u001b[39;00m:\n",
      "File \u001b[1;32mC:\\Python312\\Lib\\asyncio\\base_events.py:2012\u001b[0m, in \u001b[0;36mBaseEventLoop.set_debug\u001b[1;34m(self, enabled)\u001b[0m\n\u001b[0;32m   2009\u001b[0m \u001b[38;5;28mself\u001b[39m\u001b[38;5;241m.\u001b[39m_debug \u001b[38;5;241m=\u001b[39m enabled\n\u001b[0;32m   2011\u001b[0m \u001b[38;5;28;01mif\u001b[39;00m \u001b[38;5;28mself\u001b[39m\u001b[38;5;241m.\u001b[39mis_running():\n\u001b[1;32m-> 2012\u001b[0m     \u001b[38;5;28;43mself\u001b[39;49m\u001b[38;5;241;43m.\u001b[39;49m\u001b[43mcall_soon_threadsafe\u001b[49m\u001b[43m(\u001b[49m\u001b[38;5;28;43mself\u001b[39;49m\u001b[38;5;241;43m.\u001b[39;49m\u001b[43m_set_coroutine_origin_tracking\u001b[49m\u001b[43m,\u001b[49m\u001b[43m \u001b[49m\u001b[43menabled\u001b[49m\u001b[43m)\u001b[49m\n",
      "File \u001b[1;32mC:\\Python312\\Lib\\asyncio\\base_events.py:846\u001b[0m, in \u001b[0;36mBaseEventLoop.call_soon_threadsafe\u001b[1;34m(self, callback, context, *args)\u001b[0m\n\u001b[0;32m    844\u001b[0m \u001b[38;5;28;01mif\u001b[39;00m handle\u001b[38;5;241m.\u001b[39m_source_traceback:\n\u001b[0;32m    845\u001b[0m     \u001b[38;5;28;01mdel\u001b[39;00m handle\u001b[38;5;241m.\u001b[39m_source_traceback[\u001b[38;5;241m-\u001b[39m\u001b[38;5;241m1\u001b[39m]\n\u001b[1;32m--> 846\u001b[0m \u001b[38;5;28;43mself\u001b[39;49m\u001b[38;5;241;43m.\u001b[39;49m\u001b[43m_write_to_self\u001b[49m\u001b[43m(\u001b[49m\u001b[43m)\u001b[49m\n\u001b[0;32m    847\u001b[0m \u001b[38;5;28;01mreturn\u001b[39;00m handle\n",
      "File \u001b[1;32mC:\\Python312\\Lib\\asyncio\\selector_events.py:152\u001b[0m, in \u001b[0;36mBaseSelectorEventLoop._write_to_self\u001b[1;34m(self)\u001b[0m\n\u001b[0;32m    149\u001b[0m     \u001b[38;5;28;01mreturn\u001b[39;00m\n\u001b[0;32m    151\u001b[0m \u001b[38;5;28;01mtry\u001b[39;00m:\n\u001b[1;32m--> 152\u001b[0m     \u001b[43mcsock\u001b[49m\u001b[38;5;241;43m.\u001b[39;49m\u001b[43msend\u001b[49m\u001b[43m(\u001b[49m\u001b[38;5;124;43mb\u001b[39;49m\u001b[38;5;124;43m'\u001b[39;49m\u001b[38;5;130;43;01m\\0\u001b[39;49;00m\u001b[38;5;124;43m'\u001b[39;49m\u001b[43m)\u001b[49m\n\u001b[0;32m    153\u001b[0m \u001b[38;5;28;01mexcept\u001b[39;00m \u001b[38;5;167;01mOSError\u001b[39;00m:\n\u001b[0;32m    154\u001b[0m     \u001b[38;5;28;01mif\u001b[39;00m \u001b[38;5;28mself\u001b[39m\u001b[38;5;241m.\u001b[39m_debug:\n",
      "\u001b[1;31mKeyboardInterrupt\u001b[0m: "
     ]
    }
   ],
   "source": [
    "import requests\n",
    "import yaml\n",
    "from bs4 import BeautifulSoup\n",
    "import json\n",
    "import time\n",
    "import redis\n",
    "from messageTelegram.app import sendBot\n",
    "import asyncio\n",
    "import nest_asyncio\n",
    "\n",
    "nest_asyncio.apply()\n",
    "\n",
    "with open('./config/config.yml', 'r') as f:\n",
    "    config = yaml.safe_load(f)\n",
    "\n",
    "redis_sv = config['redis_sv']\n",
    "print(redis_sv)\n",
    "redis_client = redis.Redis(**redis_sv)\n",
    "\n",
    "def getData(urlchotot):\n",
    "    response = requests.get(url=urlchotot)\n",
    "    soup = BeautifulSoup(response.text, 'html.parser')\n",
    "    all_results = soup.find_all('div', attrs={'tabindex':\"0\"})\n",
    "    redis_set_key = \"carchotot\"\n",
    "\n",
    "    for result in all_results:\n",
    "        newRequest = requests.get(\"https://xe.chotot.com\"+result.find('a',attrs={'itemprop':'item'}).get('href'))\n",
    "        newSoup = BeautifulSoup(newRequest.text, 'html.parser')\n",
    "        data = {}\n",
    "        data[\"name\"] = newSoup.find('h1').text\n",
    "        data[\"price\"] = newSoup.find('b', class_='p26z2wb').text\n",
    "        data[\"location\"] = newSoup.find('span', class_ = \"bwq0cbs flex-1\").text\n",
    "        data[\"urlcar\"] = \"https://xe.chotot.com\"+result.find('a',attrs={'itemprop':'item'}).get('href')\n",
    "        data['image'] = \"https://xe.chotot.com\"+newSoup.findAll('img', attrs={'sizes':'100vw'})[1].get('src')\n",
    "        redis_key = f\"{data}\" \n",
    "        exists = redis_client.sismember(redis_set_key, str(data))\n",
    "        if not exists:\n",
    "            redis_client.sadd(redis_set_key, str(data))\n",
    "            redis_client.expire(redis_set_key, 60*60*24)\n",
    "            redis_client.setex(redis_key, 60*60*24, str(data))\n",
    "\n",
    "            data = {k: (v if v != \"None\" else None) for k, v in data.items()}\n",
    "            print(json.dumps(data, ensure_ascii=False, indent=2)) # debug\n",
    "            # send data telegram message\n",
    "            asyncio.run(sendBot(data))\n",
    "        else:\n",
    "            pass\n",
    "\n",
    "def main():\n",
    "    urlchotot = config['url']['urlchotot']\n",
    "    listUrl = [urlchotot.format(i) for i in range(1, 10)]\n",
    "    for url in listUrl: \n",
    "        getData(url)\n",
    "\n",
    "if __name__ == '__main__':\n",
    "    while True:\n",
    "        main()\n",
    "        time.sleep(30*60) # 30 p\n",
    "        # time.sleep(2)\n"
   ]
  },
  {
   "cell_type": "code",
   "execution_count": 7,
   "metadata": {},
   "outputs": [
    {
     "data": {
      "text/plain": [
       "<coroutine object potsMessage at 0x00000255C140F640>"
      ]
     },
     "execution_count": 7,
     "metadata": {},
     "output_type": "execute_result"
    }
   ],
   "source": [
    "from messageTelegram.app import potsMessage\n",
    "data = {\n",
    "    \"name\": \"anacode\",\n",
    "    \"year\": \"2005\",\n",
    "    \"price\": \" 97 Triệu \",\n",
    "    \"description\": \" *Xe nhập khẩu, màu đen, máy dầu 2.5 L, số tay, 6 chỗ ... Hyundai Starex 2005 máy dầu 6 chỗ 800kg xe đẹp máy êm ko khói đhoa cực mát xe cc miễn TG \",\n",
    "    \"urlcar\": \"https://bonbanh.com/xe-hyundai-starex-van-2.5-mt-2005-5571723\",\n",
    "    \"location\": \"Phường Hố Nai, Thành phố Biên Hòa, Đồng Nai\"\n",
    "}\n",
    "\n",
    "potsMessage(data)\n"
   ]
  },
  {
   "cell_type": "code",
   "execution_count": 2,
   "metadata": {},
   "outputs": [
    {
     "name": "stderr",
     "output_type": "stream",
     "text": [
      "C:\\Users\\obito\\AppData\\Local\\Temp\\ipykernel_4860\\693254464.py:26: RuntimeWarning: coroutine 'Bot.send_message' was never awaited\n",
      "  bot.send_message(\n",
      "RuntimeWarning: Enable tracemalloc to get the object allocation traceback\n"
     ]
    }
   ],
   "source": [
    "asyncio.run(potsMessage(data))\n"
   ]
  },
  {
   "cell_type": "code",
   "execution_count": null,
   "metadata": {},
   "outputs": [],
   "source": []
  }
 ],
 "metadata": {
  "kernelspec": {
   "display_name": ".venv",
   "language": "python",
   "name": "python3"
  },
  "language_info": {
   "codemirror_mode": {
    "name": "ipython",
    "version": 3
   },
   "file_extension": ".py",
   "mimetype": "text/x-python",
   "name": "python",
   "nbconvert_exporter": "python",
   "pygments_lexer": "ipython3",
   "version": "3.12.4"
  }
 },
 "nbformat": 4,
 "nbformat_minor": 2
}
