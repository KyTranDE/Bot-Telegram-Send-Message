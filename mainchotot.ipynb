{
 "cells": [
  {
   "cell_type": "code",
   "execution_count": 5,
   "metadata": {},
   "outputs": [
    {
     "data": {
      "text/plain": [
       "200"
      ]
     },
     "execution_count": 5,
     "metadata": {},
     "output_type": "execute_result"
    }
   ],
   "source": [
    "import requests\n",
    "import yaml\n",
    "from bs4 import BeautifulSoup\n",
    "\n",
    "with open('./config/config.yml', 'r') as f:\n",
    "    config = yaml.safe_load(f)\n",
    "    \n",
    "urlchotot = config['url']['urlchotot']\n",
    "response = requests.get(url=urlchotot)\n",
    "soup = BeautifulSoup(response.text, 'html.parser')\n",
    "all_results = soup.find_all('div', attrs={'tabindex':\"0\"})\n",
    "print(len(all_results))\n",
    "for result in all_results:\n",
    "    data = {}\n",
    "    data[\"name\"] = result.find('h3',class_=\"adonovt\").text\n",
    "    data[\"year\"] = result.find('span', class_='c1u6gyxh').text\n",
    "    data[\"price\"] = result.find('span', class_='bfe6oav').text\n",
    "    newRequest = requests.get(\"https://xe.chotot.com\"+result.find('a',attrs={'itemprop':'item'}).get('href'))\n",
    "    newSoup = BeautifulSoup(newRequest.text, 'html.parser')\n",
    "    data[\"description\"] = newSoup.find('p', attrs={'itemprop':'description'}).text\n",
    "    data[\"urlcar\"] = \"https://xe.chotot.com\"+result.find('a',attrs={'itemprop':'item'}).get('href')\n",
    "    print(data)"
   ]
  },
  {
   "cell_type": "code",
   "execution_count": 21,
   "metadata": {},
   "outputs": [
    {
     "name": "stdout",
     "output_type": "stream",
     "text": [
      "25\n",
      "{'name': 'THU - MUA GIÁ CAO TẤT CẢ CÁC DÒNG XE OTO', 'year': '2023', 'price': '50.000.000 đ', 'description': 'Siêu thị Ô tô Hà Nội thu mua tất cả các dòng xe của các nhãn hiệu xe: Ford, Kia, Mazda, Mitsubishi, Honda, Mitsubishi, Honda, Hyundai, Toyota, Chevrolet, Nissan, Mecerder, BMW, AUDI...\\nTầm giá từ 300 triệu trở lên.\\n\\nCam kết:\\n👉 Giá nào cũng mua, giá thu cao nhất.\\n 👉 Bảo mật thông tin khách hàng 100%.\\n 👉 Thanh toán 100% trong ngày.\\n 👉 Hoa hồng cao cho người giới thiệu.\\n 👉 Xem xe tận nơi, thu xe 24/7.\\n 👉 Hỗ trợ mọi thủ tục, giấy tờ công chứng sang tên.\\nCả nhà có xe ới em nhé ạ 😘😘\\n___________________________________________\\n𝐒𝐢ê𝐮 𝐓𝐡ị Ô 𝐓ô 𝐇à 𝐍ộ𝐢 - Thương hiệu xe lướt số 1 Việt Nam.\\n🏣 389 Quốc Lộ 13, Hiệp Bình Phước, Thủ Đức, Hồ Chí Minh.\\nCode: #22915352_01', 'urlcar': 'https://xe.chotot.com/mua-ban-oto-thanh-pho-thu-duc-tp-ho-chi-minh/117922237.htm#px=SR-stickyad-[PO-1][PL-top]'}\n",
      "{'name': 'Chevrolet Cruze 2010 LTZ 1.8 . AT số tự động .', 'year': '2010', 'price': '115.000.000 đ', 'description': '🚙 Chevrolet cruze sx2010.. ..số tự động..\\n💰 Đưa em.. 115tr.. nhận xe về luôn..\\n\\n♻️ Xe máy số ngon - đồng sơn sạch đẹp - đã lên màng hình android - nội thất rin sạch sẽ - 4 vỏ dầy cui - bao ko đâm đụng hay ngập nước gi nghe ...\\n\\n👉 Góp thoải mái Ko cần thủ tục lu bu \\n👉 Hổ trợ ace góp trực tiếp với em ko lo nợ xấu ..\\n👉 Cho nợ trả chậm ko lấy lãi theo thoa thuận .\\n\\n🌎 Xem xe gân chân cầu cần thơ \"tx binh minh\"\\n💰Giá bán 215tr ..\"báo ký rút hồ sơ xem xe thương lượng\"', 'urlcar': 'https://xe.chotot.com/mua-ban-oto-thi-xa-binh-minh-vinh-long/118399174.htm#px=SR-stickyad-[PO-2][PL-top]'}\n",
      "{'name': 'MG5 MT - 2024 - chỉ từ 80tr nhận xe về ngay', 'year': '2023', 'price': '80.000.000 đ', 'description': '⚜️ NEW MG5 MT 1.5L ⚜️\\n- Xe mới 100% \\n- Bảo hành 5 năm không giới hạn Km.\\n- Bảo hành 5 năm cứu hộ 24/7.\\n- Hỗ trợ đăng ký, đăng kiểm, giao xe tận nhà.\\n- Xe có sẵn, giao ngay, đủ màu ( Trắng - Bạc - Đen - Đỏ ) \\n- Xe đẹp, sang trọng, tiết kiệm nhiên liệu.\\n- Xe phù hợp cho nhu cầu dịch vụ và cả nhu cầu gia đình.\\n- Xe được trang bị đầy đủ, chỉ việc đổ xăng là chạy\\n\\n—————***—————\\n🪩25 Võ Văn Kiệt, p16, q8, tpHCM', 'urlcar': 'https://xe.chotot.com/mua-ban-oto-quan-8-tp-ho-chi-minh/116587066.htm#px=SR-stickyad-[PO-3][PL-top]'}\n",
      "{'name': 'xe nhà cần bán một chủ mua mới từ đầu', 'year': '2013', 'price': '190.000.000 đ', 'description': 'Chevrolet Lacetti 2013 số sàn, 33000km\\n- Xe đẹp, máy êm, chạy cực bốc\\n- Xe nguyên bản, không đâm đụng, ngập nước\\n- Giá: 190', 'urlcar': 'https://xe.chotot.com/mua-ban-oto-thanh-pho-thu-dau-mot-binh-duong/116177381.htm#px=SR-stickyad-[PO-4][PL-top]'}\n",
      "{'name': 'CẦN MUA XÁC Ô TÔ VÀ XE TẢI TAI NẠN GIÁ CAO', 'year': '2017', 'price': '120.000.000 đ', 'description': 'Mình cần thu mua xác ô tô, xe tải, xe khách cũ, bị tai nạn, ngập nước, dính nợ xấu... Các dòng xe Isuzu, Huyndai, Toyota, Mazda, Hino,...\\n📌 Dịch vụ đặc biệt:\\n✅ Thu mua trên toàn quốc: HCM, Bình Dương, Đà Nẵng, Hà Nội,…\\n✅ Giá thu mua cam kết giá tốt, cao hơn thị trường\\n✅ Trực tiếp đến tận nơi để xem và báo giá cho khách hàng\\n✅ Báo giá ngay khi khách hàng thông tin tình trạng xe\\n✅ Nhân viên nhiệt tình, lịch sự\\n✅ Không cần tốn nhiều thủ tục và giấy tờ\\n✅ Thanh toán bằng tiền mặt một lần nhanh gọn cho khách hàng\\n✅ Công ty tự vận chuyển xe, khách hàng không cần lo\\n✅ Mua tận nơi 24/7 \\nLIÊN HỆ ZALO MÌNH NGAY SĐT BÊN DƯỚI: \\n\\n#thumuaxe #xetainan #xengapnuoc #xecu #muaxe #cuongthumua #21033454_02', 'urlcar': 'https://xe.chotot.com/mua-ban-oto-thanh-pho-thu-dau-mot-binh-duong/113671018.htm#px=SR-stickyad-[PO-5][PL-top]'}\n",
      "{'name': 'Ranger XLS 4X2AT khuyến mãi ưu đãi cho tháng 7', 'year': '2024', 'price': '138.000.000 đ', 'description': 'Giá trên chỉ là giá niêm yết chưa bao gồm khuyến mãi\\nĐANG CÓ XE RANGER XLS AT MÀU XANH GIAO TRONG NGÀY HỒ SƠ CẦM TAY GIÁ HOT NHẤT KHU VỰC MIỀN NAM, QUÀ TẶNG NGẬP TRÀN\\nCAM KẾT GIÁ HOT NHẤT KHU VỰC MIỀN NAM, QUÀ TẶNG NGẬP TRÀN.\\nSẼ ĐƯỢC ƯU TIÊN VỀ GIÁ KHI GỌI TRỰC TIẾP QUA HOTLINE, đặt lịch xem xe và lái thử tại nhà\\n\\nQuà Tặng - Theo chương trình bán hàng Ford Việt Nam\\n✓ 2 năm bảo dưỡng miễn phí\\n✓ Bảo hành mở rộng 2 năm.\\n✓ Cứu hộ 3 năm miễn phí trên toàn quốc.\\n✓ Dán thẻ VETC miễn phí\\n\\nKHÁCH HÀNG CÓ THỂ TRANG BỊ THÊM NHỮNG MÓN PHỤ KIỆN NHƯ SAU:\\n+ Bảo hiểm thân vỏ\\n+ Phim cách nhiệt 3M chính hãng bảo hành 10 năm\\n+ Lót sàn 5D cao cấp\\n+ Camera hành trình chính hãng\\n+ Phủ gầm chống rỉ sét\\n+ Phủ Ceramic bảo vệ sơn,\\n+ Nắp thùng các loại như: cuộn điện, cuộn cơ, nắp thùng cao, nắp thung thấp 45 độ,...\\n+ Lót Thùng sau\\n+ Thanh thể thao\\n+ Bọc trần,...\\nHỗ trợ vay lên đến 70% - 95% giá trị xe, thời hạn từ 3 - 9 năm\\nĐảm bảo lãi suất ưu đãi thị trường 5.8%/ năm, thủ tục nhanh gọn\\nHỗ trợ khách hàng chứng minh thu nhập, cty mới thành lập, nợ chú ý, nợ xấu, cam kết hồ sơ vay bao đậu.\\nĐăng ký xem xe & lái thử tại nhà\\nHỗ trợ thủ tục đăng ký, đăng kiểm xe.', 'urlcar': 'https://xe.chotot.com/mua-ban-oto-quan-3-tp-ho-chi-minh/118002541.htm'}\n",
      "{'name': '🔱 MG HS 🔱 - new 100% - Chỉ 140tr là nhận xe', 'year': '2024', 'price': '140.000.000 đ', 'description': '🔥𝐌𝐆 𝐇𝐒  🚘Siêu phẩm comback với sự cải tiến về thiết kế mang đến một chiếc SUV hạng C với diện mạo hoàn toàn mới mạnh mẽ, cuốn hút cùng với nhiều nâng cấp giá trị. \\n---Xe hiện tại đã có sẵn tại Showroom---\\n🔥4 màu hot trend: Đ𝐞𝐧 𝐧𝐠𝐨̣𝐜 𝐭𝐫𝐚𝐢 - 𝐗𝐚́𝐦 𝐓𝐫𝐨- Đ𝐨̉ 𝐋𝐮̛̉𝐚- 𝐓𝐫𝐚̆́𝐧𝐠 𝐤𝐞𝐦 \\n-----------------------------------------\\n🚗SUV cỡ lớn - gầm cao - 5 chỗ \\n⭐️ An toàn 5 sao tiêu chuẩn kép Châu Âu & ÚC\\n✅Chiều dài cơ sở 2m7\\n✅Động cơ 1.5  Turbo Tăng Áp\\n✅Hộp số ly hợp kép 7 cấp \\n✅Công Suất 160HP, 250Nm@1700-4400v\\n✅Có 5 Chế độ lái : Eco-Normal-Sport-SuperSport-Custom\\n✅Đèn nội thất sang xịn mịn \\n✅ Bảo hành 5 năm\\n-------------------------------------------------\\n👉 Quà tặng phụ kiện chính hãng hấp dẫn.\\n👉 Hỗ trợ vay 85% giá trị xe không cần chứng minh thu nhập.\\n👉 Hỗ trợ lái thử tận nhà.\\n👉 Xe nhìn quá nét, quá sang trọng, tinh tế. \\n\\n--------------***----------------\\nMG VO VAN KIET\\n>>>> 25 Võ Văn Kiệt, p16, q8, tpHCM', 'urlcar': 'https://xe.chotot.com/mua-ban-oto-quan-8-tp-ho-chi-minh/116253017.htm'}\n",
      "{'name': 'Chevrolet Spark 2013 Số tự động , 1 chủ từ đầu', 'year': '2013', 'price': '150.000.000 đ', 'description': '♻️Đưa trước 150tr , 45tr ngân hàng hỗ trợ\\n.\\nGia đình cần bán xe Chevrolet Spark 2013 số tự động , full đồ , 1 chủ từ đầu\\nXe full zin nguyên con , full lịch sử bảo dưỡng hãng\\nOdo chuẩn 8v , bao thợ thầy check test\\n✅️Thanh giá nóc thể thao siêu tiện lợi , chở thêm nhiều hành lí cho gia đình du lịch\\n✅️4 lốp Michelin mới thay còn hóa đơn tại Hải Triều 5tr6\\n✅️Cảm biến áp suất lốp\\n✅️Màn hình giải trí android , cam lùi , cam hành trình\\n✅️Cảm biến va chạm\\n✅️Hệ thống cảnh báo quá tốc độ và camera phạt nguội\\n✅️Phim cách nhiệt 3M cao cấp mới dán\\n✅️Cách âm full xe gói cao cấp 15tr\\n✅️Cảm biến áp suất lốp\\nXe cam kết bảo dưỡng đúng theo hãng , odo chuẩn zin , còn hóa đơn chứng từ lịch sử hãng\\nAce có nhu cầu mua về để sử dụng gia đình thì không còn điểm gì để chê\\nHiếm lắm ms tìm đc 1 con cọp keng xà beng ntn ace ạ\\n\\n♻️QUANG SƠN AUTO♻️\\nKí gửi ,Mua bán trao đổi\\nxe oto cũ mới', 'urlcar': 'https://xe.chotot.com/mua-ban-oto-quan-12-tp-ho-chi-minh/117447230.htm'}\n",
      "{'name': 'Morning Sport 2011 TỰ ĐỘNG cực đẹp', 'year': '2011', 'price': '166.000.000 đ', 'description': 'Do đổi xe mới nên bán lại cho ai cần.\\nKia Morning 2011 Sport số tự động, bản đủ có điều hòa Auto, khóa khiển, gương kính điện. \\nXe di gia đình, ko taxi dịch vụ, nên máy số zin nguyên bản 100% có thể test thoái mái nhé. Chạy cực tiết kiệm (5-6L/100km) như xe máy, siêu bền bỉ & kinh tế ạ. Giá mình bán chỉ 166 triệu, ai nhanh tay thì mua được , chiếc xe quá đẹp, zin toàn bộ. Cảm ơn!', 'urlcar': 'https://xe.chotot.com/mua-ban-oto-quan-bac-tu-liem-ha-noi/117158702.htm'}\n",
      "{'name': 'Toi ban xe nay', 'year': '2010', 'price': '200.000.000 đ', 'description': 'Bán chiếc xe còn sử dụng tốt xem xe quận 12 thành phố Hồ Chí Minh', 'urlcar': 'https://xe.chotot.com/mua-ban-oto-quan-12-tp-ho-chi-minh/118418820.htm'}\n",
      "{'name': '⚜️MG5 Luxury⚜️ - Chỉ từ 85tr là nhận xe', 'year': '2024', 'price': '85.000.000 đ', 'description': '🔱 New MG5 LUX / STD 🔱 \\n🚦Xe phân khúc hạng C / giá chỉ phân khúc hạng B\\n🚦Xe luôn có sẵn để bàn giao\\n🚦Có 5 màu lựa chọn: Đỏ - Đen - Xám - Trắng\\n\\n------------------***---------------------\\nƯu đãi dành cho xe mua trong tháng lên đến 100tr\\nMG VO VAN KIET\\n>>>> 25 Võ Văn Kiệt, p16, q8, tpHCM', 'urlcar': 'https://xe.chotot.com/mua-ban-oto-quan-8-tp-ho-chi-minh/116209119.htm'}\n",
      "{'name': 'Territory Titanium ưu đãi hấp dẫn,đưa trước 179tr', 'year': '2024', 'price': '179.800.000 đ', 'description': '🔥Ưu Đãi Tháng 7🔥\\n#Ford_Territory trả trước từ 168tr đến 179tr nhận xe\\n- Mua kèm bảo hiểm thân vỏ\\n- Phụ kiện có thể trang bị thêm: Phim Lurma/3M, Camera Vietmap,Lót sàn 6D, Phủ gầm…\\n- Hỗ trợ lên hồ sơ bank với tỉ lệ duyệt lên đến 90% giá trị xe\\n- Hỗ trợ lái thử tận nhà, phục vụ mọi ngày trong tuần\\nĐẶC BIỆT: Bạn sẽ được tư vấn đầy đủ mọi thông tin để có thể chốt được chiếc xe bạn ưng ý nhất với tài chính hợp lý nhất.\\n_Ford- Go Further____________________________\\nUY TÍN TẠO NÊN THƯƠNG HIỆU', 'urlcar': 'https://xe.chotot.com/mua-ban-oto-quan-go-vap-tp-ho-chi-minh/117871644.htm'}\n",
      "{'name': 'Chevrolet Spark 2014 số tự động . máy zin', 'year': '2014', 'price': '186.000.000 đ', 'description': 'Em bán spack 2014 ltz ( số tự động ) \\nMáy số zin . Đăng kiểm dài , gầm bệ cực ngon \\nGiá bán 186tr \\nXem xe : an phú - bình dương\\n——Xe bán bao tất cả các thủ tục pháp lý và rút hồ sơ cho cả nhà mình yên tâm —-', 'urlcar': 'https://xe.chotot.com/mua-ban-oto-thanh-pho-di-an-binh-duong/117388919.htm'}\n",
      "{'name': 'Daewoo Lacetti 2004 EX 1.6 MT  ngay chủ công chứng', 'year': '2004', 'price': '89.000.000 đ', 'description': '- Nhà ít dùng nên muốn nhượng lại một em Dawoo Lacetti cọp. sản xuất 2004 màu trắng ngọc trinh, bản 1.6MT ăn rất ít xăng: 100km/7 lít.\\n- Xe chính chủ ký mua bán hay ủy quyền đều được.\\n- Xe rin, Cọp nguyên bản khó tìm được chiếc thứ hai, máy móc sạch khô không 1 giọt nhớt.\\n- Xe chưa hề đâm va hay ngập nước: 4 cửa ,ca pô và cốp sau chưa mở 1 con ốc.\\n- Nội thất ghế nỉ rin ngồi lâu không nóng.\\n- Xe trang bị nhiều Option như:\\n- 5 mân đúc hợp kim rin theo xe, 4 lốp còn mới 80%. Điều hòa lạnh sâu.\\n- Tay lái trợ lực dầu nhẹ như điện.\\n- Màn hình oled pro giải trí đa phương tiện: - Việtmap dẫn đường, youtube, radio Fm..\\n- Camera hành trình- Camera lùi.\\n- Đăng kiểm dài đến tháng 12/2024\\n- Xe nhà chạy kỹ chăm sóc và bảo dưỡng đúng định kỳ của hãng.\\n- Máy nổ rất êm, bao đi xa Nam-Bắc..Tiền nào của đó các bác đừng so với các xe mục nát mua về sửa còn hơn mà không nguyên bản được như xe em.\\n- Anh em có nhu cầu sử dụng Alo trực tiếp cho em!\\n- Mấy anh cò lái tha cho em ,thanks.', 'urlcar': 'https://xe.chotot.com/mua-ban-oto-thanh-pho-di-an-binh-duong/118307526.htm'}\n",
      "{'name': 'Toyota Camry 1994 - 19080 km', 'year': '1994', 'price': '78.000.000 đ', 'description': 'Do nhu cầu đổi xe mới nên cần nhượng lại Camry 2.2 số tự động đời 94. Xe đẹp liền lạc. Đã lên full đồ chơi( mà hình androi, cam lùi, đề star stop, cam hành trình, nội thất da xịn sang trọng, trần sàn 6D. Máy móc nguyên bản nổ thì thầm. Đèn siêu sáng, mâm đúc. Còn đăng kiểm đến hết tháng 9/2024. Xe 5 chỗ rộng rãi, dòng Camry siêu bền, tiết kiệm nhiên liệu. \\n#Camry 2.2 đời 1994 số tự động\\n#Camry giá rẻ', 'urlcar': 'https://xe.chotot.com/mua-ban-oto-quan-go-vap-tp-ho-chi-minh/118443827.htm'}\n",
      "{'name': 'Kia Carens 2011 SX 2.0 số sàn cực mới', 'year': '2011', 'price': '180.000.000 đ', 'description': '- Xe đẹp, chạy êm, opsions miên man  \\n- Xe trang bị đầy đủ tiện nghi: điều hòa, âm thanh ,chất xe đẹp không đối thủ ,anh em nào thích xe đẹp alo em ,Xe đã được kiểm định chất lượng, đảm bảo không đâm đụng, không ngập nước.\\n- Giấy giờ sang tên hợp lệ ,bao rút hồ sơ cho người mua', 'urlcar': 'https://xe.chotot.com/mua-ban-oto-huyen-dai-loc-quang-nam/118465475.htm'}\n",
      "{'name': 'Xe Fairy 2007 5 chổ nhỏ gọn dễ thương đi gia đình', 'year': '2007', 'price': '53.000.000 đ', 'description': 'Mình cần bán xe Fairy đời 2007 đăng kiểm còn dài luôn.\\n- Máy móc êm ru nhé,đi đường dài yên tâm,máy lạnh phà phà,4 vỏ mới,có camera hành trình,camera sau luôn.\\n- Dáng xe đẹp,các bạn đi du lịch nhỏ gọn,xe cao sạch sẽ.Máy 1.0l cực kỳ tiết kiệm nhiên liệu.\\n- Xe mình bán chỉ 53tr.còn bớt đi ngon lành che mưa che nắng nhé.\\nMình ở trường mầm non xuân thới thượng hóc môn.', 'urlcar': 'https://xe.chotot.com/mua-ban-oto-huyen-hoc-mon-tp-ho-chi-minh/118045617.htm'}\n",
      "{'name': 'Hyundai Elantra 2019 2.0AT - 50998 km', 'year': '2019', 'price': '48.500.000 đ', 'description': '🥰Hyundai Elantra 2.0AT sx 2019 Model 2020\\n👉Đã chạy 5,1 vạn km .biển HN.\\n👉 𝐂𝐡𝐞𝐜𝐤 𝐭𝐞𝐬𝐭 𝐭𝐨𝐚̀𝐧 𝐪𝐮𝐨̂́𝐜 𝐭𝐡𝐞𝐨 𝐲𝐞̂𝐮 𝐜𝐚̂̀𝐮 \\n👉 𝐂𝐚𝐦 𝐤𝐞̂́𝐭 𝐱𝐞 𝐤𝐡𝐨̂𝐧𝐠 đ𝐚̂𝐦 𝐯𝐚, 𝐤𝐡𝐨̂𝐧𝐠 𝐧𝐠𝐚̣̂𝐩 𝐧𝐮̛𝐨̛́𝐜, 𝐤𝐡𝐨̂𝐧𝐠 𝐛𝐨̂̉ 𝐦𝐚́𝐲\\n👉 𝐏𝐡𝐚́𝐩 𝐋𝐲́ 𝐫𝐨̃ 𝐫𝐚̀𝐧𝐠, 𝐬𝐚𝐧𝐠 𝐭𝐞̂𝐧 𝐧𝐡𝐚𝐧𝐡 𝐠𝐨̣𝐧\\n👉 𝐇𝐨̂̃ 𝐭𝐫𝐨̛̣ 𝐠𝐢𝐚𝐨 𝐱𝐞 𝐭𝐨𝐚̀𝐧 𝐪𝐮𝐨̂́𝐜\\n👉𝐇𝐨̂̃ 𝐭𝐫𝐨̛̣ 𝐭𝐚̀𝐢 𝐜𝐡𝐢́𝐧𝐡 𝟕𝟎% 𝐠𝐢𝐚́ 𝐭𝐫𝐢̣ 𝐱𝐞\\n♦️ 𝐂𝐡𝐮𝐲𝐞̂𝐧 𝐦𝐮𝐚 𝐛𝐚́𝐧, 𝐭𝐫𝐚𝐨 đ𝐨̂̉𝐢 𝐜𝐚́𝐜 𝐱𝐞 đ𝐚̃ 𝐪𝐮𝐚 𝐬𝐮̛̉ 𝐝𝐮̣𝐧𝐠 𝐭𝐨𝐚̀𝐧 𝐪𝐮𝐨̂́𝐜 𝐜𝐡𝐚̂́𝐭 𝐥𝐮̛𝐨̛̣𝐧𝐠 𝐜𝐚𝐨.\\n💰Giá chỉ 4++\\n👉 ACE Có nhu cầu Lh: MR Đại đt ***.tks\\n\\n🏠 Xem xe  tại 92 Nguyễn hy quang,hoàng cầu,đống đa, Hà Nội', 'urlcar': 'https://xe.chotot.com/mua-ban-oto-quan-dong-da-ha-noi/118465268.htm'}\n",
      "{'name': 'Suzuki van 2009', 'year': '2009', 'price': '88.000.000 đ', 'description': 'Cần bán Suzuki van 2009 cho anh em khoi nghiệp xe mới đại tu 15 triệu. Xe mới dang kiểm . Niên hạn còn dài. Xe chính chủ bán giấy tờ đàng hoàng không phải xe giấy tay nhé.', 'urlcar': 'https://xe.chotot.com/mua-ban-oto-quan-12-tp-ho-chi-minh/118465183.htm'}\n",
      "{'name': 'Ranger XLS ưu đãi hấp dẫn đưa trước chỉ 140tr', 'year': '2024', 'price': '140.000.000 đ', 'description': 'Giá trên chỉ là giá niêm yết chưa bao gồm khuyến mãi\\nĐANG CÓ XE RANGER XLS AT MÀU XANH GIAO TRONG NGÀY HỒ SƠ CẦM TAY GIÁ HOT NHẤT KHU VỰC MIỀN NAM, QUÀ TẶNG NGẬP TRÀN\\nCAM KẾT GIÁ HOT NHẤT KHU VỰC MIỀN NAM, QUÀ TẶNG NGẬP TRÀN.\\nSẼ ĐƯỢC ƯU TIÊN VỀ GIÁ KHI GỌI TRỰC TIẾP QUA HOTLINE, đặt lịch xem xe và lái thử tại nhà\\n\\nQuà Tặng - Theo chương trình bán hàng Ford Việt Nam\\n✓ 2 năm bảo dưỡng miễn phí\\n✓ Bảo hành mở rộng 2 năm.\\n✓ Cứu hộ 3 năm miễn phí trên toàn quốc.\\n✓ Dán thẻ VETC miễn phí\\n\\nKHÁCH HÀNG CÓ THỂ TRANG BỊ THÊM NHỮNG MÓN PHỤ KIỆN NHƯ SAU:\\n+ Bảo hiểm thân vỏ\\n+ Phim cách nhiệt 3M chính hãng bảo hành 10 năm\\n+ Lót sàn 5D cao cấp\\n+ Camera hành trình chính hãng\\n+ Phủ gầm chống rỉ sét\\n+ Phủ Ceramic bảo vệ sơn,\\n+ Nắp thùng các loại như: cuộn điện, cuộn cơ, nắp thùng cao, nắp thung thấp 45 độ,...\\n+ Lót Thùng sau\\n+ Thanh thể thao\\n+ Bọc trần,...\\nHỗ trợ vay lên đến 70% - 95% giá trị xe, thời hạn từ 3 - 9 năm\\nĐảm bảo lãi suất ưu đãi thị trường 5.8%/ năm, thủ tục nhanh gọn\\nHỗ trợ khách hàng chứng minh thu nhập, cty mới thành lập, nợ chú ý, nợ xấu, cam kết hồ sơ vay bao đậu.\\nĐăng ký xem xe & lái thử tại nhà\\nHỗ trợ thủ tục đăng ký, đăng kiểm xe.', 'urlcar': 'https://xe.chotot.com/mua-ban-oto-quan-phu-nhuan-tp-ho-chi-minh/117871944.htm'}\n",
      "{'name': 'Kia Carens 2010 số sàn trắng đẹp,mới đăng kiểm', 'year': '2010', 'price': '148.000.000 đ', 'description': '- Mình bán xe Xe Kia Carens LX 1.6 MT, đời 2010, màu trắng, nội thất đen,bản này cực kỳ tiết kiệm xăng ạ.\\n- Xe chạy cực kỳ êm, tiết kiệm nhiên liệu.\\n- Xe bao không đâm đụng, không ngập nước.Mới đăng kiểm nhé.Chính chủ mình bán nhanh 148tr.có bớt. Bao rút hồ sơ sang tên nếu cần ạ.Mình ở gần trường mầm non xuân thới thượng hóc môn.', 'urlcar': 'https://xe.chotot.com/mua-ban-oto-huyen-hoc-mon-tp-ho-chi-minh/118025311.htm'}\n",
      "{'name': 'Ford Everest 2008 . số sàn máy dầu .cao to.', 'year': '2008', 'price': '195.000.000 đ', 'description': 'Xe máy dầu đi tiết kiệm nhiên liệu\\n7 chổ rộng rải , xe cao to đi cực kì đầm chắc luôn\\nXe hiện tại ko lỗi \\nXe có màn hình adroi , \\nGhế da mới , lót sàn mới\\nVề là sẳn chạy ah ..', 'urlcar': 'https://xe.chotot.com/mua-ban-oto-thanh-pho-bien-hoa-dong-nai/118465109.htm'}\n",
      "{'name': 'Daewoo Matiz 2005 SE 4 vỏ mới thay màn hình mới', 'year': '2005', 'price': '56.000.000 đ', 'description': 'Cần bán matiz se bản gia đình mới thay 4 cái vỏ mới đăng kiểm mới xem xe Tây ninh', 'urlcar': 'https://xe.chotot.com/mua-ban-oto-huyen-duong-minh-chau-tay-ninh/118314044.htm'}\n",
      "{'name': 'BMW E34 cổ 1993 zin đẹp chính chủ', 'year': '1993', 'price': '150.000.000 đ', 'description': '- BMW 525-1993 E34 huyền thoại. Máy móc bao êm, sạch sẽ ko xì nhớt. Đường nước chuẩn bao ae đi xa thoải mái. Đồng sơn đẹp, dán đổi màu. Nội thất zin cũ theo thời gian, xài đủ chức năng. 4 phuộc hạ gầm, đăng kiểm dài.\\n- Giá: 150 triệu. Fix cho ae mau lẹ.\\nChính chủ, công chứng sang tên 1 nốt nhạc.\\n Xem xe Gò Vấp- HCM', 'urlcar': 'https://xe.chotot.com/mua-ban-oto-quan-go-vap-tp-ho-chi-minh/118464956.htm'}\n",
      "{'name': 'Hyundai Grand i10 2015 1.0 MT - 89000 km', 'year': '2016', 'price': '150.000.000 đ', 'description': '- gd bán chiếc hyundai i10 sx 2015 xe zin ko lỗi.  Máy số zin . xe đã lên màn hình cam lùi hành trình đầy đủ . v.v. Đề statop .  v.v.v.\\n- Xe đẹp , máy êm , chạy êm , tiết kiệm xăng , nội thất đẹp , ngoại thất đẹp , xe còn mới , giấy tờ đầy đủ , sang tên nhanh gọn , giá tốt , liên hệ xem xe .', 'urlcar': 'https://xe.chotot.com/mua-ban-oto-huyen-krong-pac-dak-lak/118464820.htm'}\n"
     ]
    }
   ],
   "source": []
  },
  {
   "cell_type": "code",
   "execution_count": null,
   "metadata": {},
   "outputs": [],
   "source": []
  }
 ],
 "metadata": {
  "kernelspec": {
   "display_name": ".venv",
   "language": "python",
   "name": "python3"
  },
  "language_info": {
   "codemirror_mode": {
    "name": "ipython",
    "version": 3
   },
   "file_extension": ".py",
   "mimetype": "text/x-python",
   "name": "python",
   "nbconvert_exporter": "python",
   "pygments_lexer": "ipython3",
   "version": "3.12.4"
  }
 },
 "nbformat": 4,
 "nbformat_minor": 2
}
