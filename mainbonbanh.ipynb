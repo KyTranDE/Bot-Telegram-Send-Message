{
 "cells": [
  {
   "cell_type": "code",
   "execution_count": 5,
   "metadata": {},
   "outputs": [
    {
     "data": {
      "text/plain": [
       "200"
      ]
     },
     "execution_count": 5,
     "metadata": {},
     "output_type": "execute_result"
    }
   ],
   "source": [
    "import requests\n",
    "import yaml\n",
    "from bs4 import BeautifulSoup\n",
    "import json\n",
    "with open('./config/config.yml', 'r') as f:\n",
    "    config = yaml.safe_load(f)\n",
    "    \n",
    "urlbonban = config['url']['urlbonbanh']\n",
    "def getSoup(urlbonban):\n",
    "    response = requests.get(url=urlbonban)\n",
    "    soup = BeautifulSoup(response.text, 'html.parser')\n",
    "def getData(soup):\n",
    "    all_results = soup.find_all('li', class_=['car-item row1','car-item row2'])\n",
    "    for result in all_results:\n",
    "        data = {}\n",
    "        data[\"name\"] = result.find('h3').text\n",
    "        data[\"year\"] = result.find('div', class_='cb1').find('b').text\n",
    "        data[\"price\"] = result.find('div', class_='cb3').text\n",
    "        data[\"description\"] = result.find('div', attrs={'itemprop':'description'}).text\n",
    "        data[\"urlcar\"] = \"https://bonbanh.com/\"+result.find('a',attrs={'itemprop':'url'}).get('href')\n",
    "        print(data)"
   ]
  }
 ],
 "metadata": {
  "kernelspec": {
   "display_name": ".venv",
   "language": "python",
   "name": "python3"
  },
  "language_info": {
   "codemirror_mode": {
    "name": "ipython",
    "version": 3
   },
   "file_extension": ".py",
   "mimetype": "text/x-python",
   "name": "python",
   "nbconvert_exporter": "python",
   "pygments_lexer": "ipython3",
   "version": "3.12.4"
  }
 },
 "nbformat": 4,
 "nbformat_minor": 2
}
