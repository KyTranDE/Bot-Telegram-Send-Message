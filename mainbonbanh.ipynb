{
 "cells": [
  {
   "cell_type": "code",
   "execution_count": 5,
   "metadata": {},
   "outputs": [
    {
     "data": {
      "text/plain": [
       "200"
      ]
     },
     "execution_count": 5,
     "metadata": {},
     "output_type": "execute_result"
    }
   ],
   "source": [
    "import requests\n",
    "import yaml\n",
    "from bs4 import BeautifulSoup\n",
    "import json\n",
    "with open('./config/config.yml', 'r') as f:\n",
    "    config = yaml.safe_load(f)\n",
    "    \n",
    "urlbonban = config['url']['urlbonbanh']\n",
    "response = requests.get(url=urlbonban)\n",
    "response.status_code"
   ]
  },
  {
   "cell_type": "code",
   "execution_count": 6,
   "metadata": {},
   "outputs": [
    {
     "name": "stdout",
     "output_type": "stream",
     "text": [
      "{'name': 'Toyota Zace Surf - 2005', 'year': '2005', 'price': ' 183 Triệu ', 'description': ' *Xe lắp ráp trong nước, màu cát, máy xăng 1.8 L, số tay, 8 chỗ , đã đi 160,000 km ...   em bán Zace Surf 2005 với tình trạng xe\\n- máy nguyên bản nổ im như tủ lạnh\\n- Không đâm va ngập nước\\n- Keo chỉ,kính zin cả xe\\n- Nỉ ghế còn zin đang bọc da bên ngoài\\n- ...  ', 'urlcar': 'https://bonbanh.com/xe-toyota-zace-surf-2005-5752515'}\n",
      "{'name': 'Mitsubishi Pajero 3.0 - 2002', 'year': '2002', 'price': ' 113 Triệu ', 'description': ' *Xe lắp ráp trong nước, màu xanh, máy xăng 3.0 L, số tay, 7 chỗ , đã đi 190,000 km ...   Bán xe pajero 3.0 hai cầu, xe zin 100% xe cơ quan hà nội đã rút hồ sơ đăng kiểm hạn còn 6 tháng, 5 lốp mới tinh vừa bảo dưỡng, 2 cầu đủ, về chỉ việc phượt trèo đèo lội ...  ', 'urlcar': 'https://bonbanh.com/xe-mitsubishi-pajero-3.0-2002-5717856'}\n",
      "{'name': 'Hyundai Terracan 3.5 MT - 2004', 'year': '2004', 'price': ' 145 Triệu ', 'description': ' *Xe nhập khẩu, màu xanh, máy xăng 3.5 L, số tay, 5 chỗ , đã đi 185,000 km ...   Hyundai Terracan 2004 - số sàn – 2 cầu\\nXuất xứ: nhập khẩu Hàn Quốc\\nOdo: 185.000 km\\nSUV giá rẻ và có khả năng vận hành tốt trên đường có địa hình xấu.\\nXe được giữ ...  ', 'urlcar': 'https://bonbanh.com/xe-hyundai-terracan-3.5-mt-2004-4757833'}\n",
      "{'name': 'Toyota Innova G - 2008', 'year': '2008', 'price': ' 176 Triệu ', 'description': ' *Xe lắp ráp trong nước, màu cát, máy xăng 2.0 L, số tay, 8 chỗ ...   Bán Innova G sx 2008 xe gia đình sử dụng còn rất tốt chạy ổn định hình thức như hình chụp đã rút hồ sơ làm định danh rất thuận tiện cho ai có nhu cầu mua sử dụng  ', 'urlcar': 'https://bonbanh.com/xe-toyota-innova-g-2008-5758142'}\n",
      "{'name': 'Daewoo Lacetti CDX 1.6 AT - 2010', 'year': '2010', 'price': ' 175 Triệu ', 'description': ' *Xe nhập khẩu, màu đen, máy xăng 1.6 L, số tự động, 5 chỗ , đã đi 28,000 km ...   Xe gia đình bán chiếc Daewoo Lacetti CDX bản cao cấp nhất 1.6 AT số tự động đề nổ Start/Stop cửa nóc nhập khẩu nguyên chiếc đky 2010 vẫn nguyên chính chủ ...  ', 'urlcar': 'https://bonbanh.com/xe-daewoo-lacetti-cdx-1.6-at-2010-4853106'}\n",
      "{'name': 'Hyundai Starex Van 2.5 MT - 2004', 'year': '2004', 'price': ' 85 Triệu ', 'description': ' *Xe nhập khẩu, màu đen, máy dầu 2.5 L, số tay, 6 chỗ , đã đi 40,000 km ...   Nhà em thừa xe, cần bán Huynhdai Starex bán tải.\\nXe nhập khẩu hàn quốc. Sản xuất 2004, đăng lý lần đầu 2007.\\nHiện tại xe đẹp, hoạt động ổn định.  ', 'urlcar': 'https://bonbanh.com/xe-hyundai-starex-van-2.5-mt-2004-5746053'}\n",
      "{'name': 'Chevrolet Spark Lite Van 0.8 MT - 2014', 'year': '2014', 'price': ' 79 Triệu ', 'description': ' *Xe lắp ráp trong nước, màu trắng, máy xăng 0.8 L, số tay, 2 chỗ , đã đi 140,000 km ...   Bán xe Chevrolet Spark Van 2014 MT\\n- Xe một chủ cán bộ, đẹp nguyên bản\\n- Chạy đúng 14v km, keo chỉ zin, máy số chất\\n- Trang bị 4 ghế da, màn hình, camera lùi,...\\n- Cam kết xe không ...  ', 'urlcar': 'https://bonbanh.com/xe-chevrolet-spark-lite-van-0.8-mt-2014-5759349'}\n",
      "{'name': 'Kia Morning SX 1.1 AT Sport - 2012', 'year': '2012', 'price': ' 173 Triệu ', 'description': ' *Xe lắp ráp trong nước, màu bạc, máy xăng 1.1 L, số tự động, 5 chỗ , đã đi 120,000 km ...   Kia Morning SX 1.1 AT Sport 2012 Xe sản xuất 2012. Tên cá nhân sử dụng Odo 12 vạn km. Bảo dưỡng định kỳ Xe full đồ chơi: ghế da, điều hoà tự động, màn androi, cảm biến ...  ', 'urlcar': 'https://bonbanh.com/xe-kia-morning-sx-1.1-at-sport-2012-5750975'}\n",
      "{'name': 'Toyota Zace Surf - 2005', 'year': '2005', 'price': ' 185 Triệu ', 'description': ' *Xe lắp ráp trong nước, màu bạc, máy xăng 1.8 L, số tay, 8 chỗ , đã đi 100,000 km ...   Đề bài : Xe tài chính dưới 200tr, 8 chỗ, thương hiệu Toyota, lành bền, nồi đồng cối đá, không còn gì để mất, hàng hiếm sưu tầm...\\nĐáp án : Zace Surf 2005 đăng ký 2006 ...  ', 'urlcar': 'https://bonbanh.com/xe-toyota-zace-surf-2005-5640464'}\n",
      "{'name': 'Toyota Innova G - 2006', 'year': '2006', 'price': ' 168 Triệu ', 'description': ' *Xe lắp ráp trong nước, màu bạc, máy xăng 2.0 L, số tay, 8 chỗ , đã đi 160,000 km ...   Nhà tôi đổi xe số tự động nên bán chiếc Innova 2.0G số sàn màu bạc SX 2006. Xe nhà tôi đi ít giữ gìn cẩn thận chỉ sử dụng đi trong gia đình chứ Ko kinh doanh hay cho thuê gì ...  ', 'urlcar': 'https://bonbanh.com/xe-toyota-innova-g-2006-5738849'}\n",
      "{'name': 'Hyundai Getz 1.1 MT - 2010', 'year': '2010', 'price': ' 115 Triệu ', 'description': ' *Xe nhập khẩu, màu bạc, máy xăng 1.1 L, số tay, 5 chỗ , đã đi 150,000 km ...   Nhà tôi đổi xe số tự động nên bán chiếc Hyundai Getz số sàn màu ghi bạc sx 2010 nhập khẩu Hàn Quốc đăng ký biển Hà Nội. Xe nhà tôi sử dụng giữ gìn cẩn thận, không đâm ...  ', 'urlcar': 'https://bonbanh.com/xe-hyundai-getz-1.1-mt-2010-5754902'}\n",
      "{'name': 'Nissan Cedric 3.0 MT - 1993', 'year': '1993', 'price': ' 156 Triệu ', 'description': ' *Xe nhập khẩu, màu đen, máy xăng 3.0 L, số tay, 5 chỗ ...   #Nissan_Cedric_Vip_1993 model 1994 tư nhân một chủ từ đầu , đẹp không tỳ vết , lên vô lăng Gran Turismo 3 chấu hàng siêu hiếm đặt từ nhật, cần chuyển số thể thao lộ trình ...  ', 'urlcar': 'https://bonbanh.com/xe-nissan-cedric-3.0-mt-1993-5715311'}\n",
      "{'name': 'Daewoo Lacetti EX 1.6 MT - 2008', 'year': '2008', 'price': ' 116 Triệu ', 'description': ' *Xe lắp ráp trong nước, màu bạc, máy xăng 1.6 L, số tay, 5 chỗ , đã đi 130,000 km ...   Giá chỉ bằng con xe máy thì tội gì phải chịu mưa chịu nắng các bác ơi\\n_ Chính chủ Hải Phòng.\\n_ Xe máy nổ êm, điều hoà mát lạnh, nội thất sạch sẽ.\\n- Bảo hành:\\n+ Xe ...  ', 'urlcar': 'https://bonbanh.com/xe-daewoo-lacetti-ex-1.6-mt-2008-5631364'}\n",
      "{'name': 'Mitsubishi L300 2.0 MT - 2003', 'year': '2003', 'price': ' 38 Triệu ', 'description': ' *Xe nhập khẩu, màu trắng, máy dầu 2.0 L, số tay, 12 chỗ ...   Bán xe thanh lý bộ công an. Mitsubishi L300 máy dầu, máy ngon điều hòa mát, lốp mới cả dàn. Ai có nhu cầu liên hệ xem xe  ', 'urlcar': 'https://bonbanh.com/xe-mitsubishi-l300-2.0-mt-2003-5536200'}\n",
      "{'name': 'Honda Civic 1.8 MT - 2009', 'year': '2009', 'price': ' 195 Triệu ', 'description': ' *Xe lắp ráp trong nước, màu xám, máy xăng 1.8 L, số tay, 5 chỗ , đã đi 88,700 km ...   Honda Civic 1.8 số sản đk 2010 xe nhà một chủ ít đi rất nội thất đẹp còn nệm nỉ nhung zin Xe bao chạy gầm máy cách âm êm ru ít hao xăng đồng sơn máy còn ...  ', 'urlcar': 'https://bonbanh.com/xe-honda-civic-1.8-mt-2009-5752205'}\n",
      "{'name': 'Hyundai i10 Grand 1.2 MT Base - 2016', 'year': '2016', 'price': ' 183 Triệu ', 'description': ' *Xe nhập khẩu, màu trắng, máy xăng 1.25 L, số tay, 5 chỗ , đã đi 100,000 km ...   Hyundai i10 MT sedan 2đầu đăng ký lăn bánh lần đầu 2017 máy1.25 tư nhân chính chủ hà nội ko khoan đục dịch vụ taxi máy số zin đét\\nChất xe chạy xin 10vạn màu sơn trắng ...  ', 'urlcar': 'https://bonbanh.com/xe-hyundai-i10-grand-1.2-mt-base-2016-5756742'}\n",
      "{'name': 'Kia Morning Si MT - 2016', 'year': '2016', 'price': ' 188 Triệu ', 'description': ' *Xe lắp ráp trong nước, màu trắng, máy xăng 1.25 L, số tay, 5 chỗ , đã đi 868 km ...   Bán Kia Moning Si bản full sx2016 lazang xoắn\\nXe gia đình ko taxi dịch vụ , Máy Số keo chỉ khung gầm nguyên gin\\nXe đã lên Màn Android,camera lùi,camera hành trình, đề nổ start ...  ', 'urlcar': 'https://bonbanh.com/xe-kia-morning-si-mt-2016-5734796'}\n",
      "{'name': 'Mitsubishi Lancer Gala GLX 1.6AT - 2004', 'year': '2004', 'price': ' 155 Triệu ', 'description': ' *Xe lắp ráp trong nước, màu cát, máy xăng 1.6 L, số tự động, 5 chỗ , đã đi 14,000 km ...   Xe một chủ từ đầu. Em cam kết về odo zin tuyệt đối. Mới thay giang lốp mới tinh. Gầm bệ chắc chắn máy nổ êm thin thít. Thực sự mà nói tầm tiền này chấp hết mọi xe ...  ', 'urlcar': 'https://bonbanh.com/xe-mitsubishi-lancer-gala-glx-1.6at-2004-5616508'}\n",
      "{'name': 'Chevrolet Aveo LTZ 1.4 AT - 2017', 'year': '2017', 'price': ' 195 Triệu ', 'description': ' *Xe lắp ráp trong nước, màu đen, máy xăng 1.4 L, số tự động, 5 chỗ , đã đi 60,000 km ...   Chevrolet Aveo đời 2017\\nodo 6 vạn\\n✓Bao không ngập nước, không đâm đụng.\\n✓Hỗ trợ sang tên\\n✓Hỗ trợ vay ngân hàng lãi suất ưu đãi.\\n✓Hỗ trợ ...  ', 'urlcar': 'https://bonbanh.com/xe-chevrolet-aveo-ltz-1.4-at-2017-5708172'}\n",
      "{'name': 'Chevrolet Lacetti 1.6 - 2013', 'year': '2013', 'price': ' 165 Triệu ', 'description': ' *Xe lắp ráp trong nước, màu bạc, máy xăng 1.6 L, số tay, 5 chỗ , đã đi 150,000 km ...   Siêu thị ô tô Ánh Lý bán xe Chevrolet Lacetti 1.6MT sản xuất 2013, biển tỉnh hồ sơ rút cầm tay.\\n- Ngoại thất màu bạc, trang bị Lazang đúc, mặt ca lăng mạ Crom, sơn si bóng ...  ', 'urlcar': 'https://bonbanh.com/xe-chevrolet-lacetti-1.6-2013-5516779'}\n"
     ]
    }
   ],
   "source": [
    "soup = BeautifulSoup(response.text, 'html.parser')\n",
    "all_results = soup.find_all('li', class_=['car-item row1','car-item row2'])\n",
    "for result in all_results:\n",
    "    data = {}\n",
    "    data[\"name\"] = result.find('h3').text\n",
    "    data[\"year\"] = result.find('div', class_='cb1').find('b').text\n",
    "    data[\"price\"] = result.find('div', class_='cb3').text\n",
    "    data[\"description\"] = result.find('div', attrs={'itemprop':'description'}).text\n",
    "    data[\"urlcar\"] = \"https://bonbanh.com/\"+result.find('a',attrs={'itemprop':'url'}).get('href')\n",
    "    print(data)"
   ]
  },
  {
   "cell_type": "code",
   "execution_count": 4,
   "metadata": {},
   "outputs": [],
   "source": [
    "# name year price dicription"
   ]
  }
 ],
 "metadata": {
  "kernelspec": {
   "display_name": ".venv",
   "language": "python",
   "name": "python3"
  },
  "language_info": {
   "codemirror_mode": {
    "name": "ipython",
    "version": 3
   },
   "file_extension": ".py",
   "mimetype": "text/x-python",
   "name": "python",
   "nbconvert_exporter": "python",
   "pygments_lexer": "ipython3",
   "version": "3.12.4"
  }
 },
 "nbformat": 4,
 "nbformat_minor": 2
}
