{
 "cells": [
  {
   "cell_type": "code",
   "execution_count": 1,
   "metadata": {},
   "outputs": [],
   "source": [
    "\n",
    "import requests\n",
    "import yaml\n",
    "from concurrent.futures import ThreadPoolExecutor\n",
    "import json\n",
    "import pandas\n",
    "with open('./config/config.yml', 'r') as f:\n",
    "    config = yaml.safe_load(f)\n",
    "\n",
    "urlproxy = config['url']['urlproxy']\n",
    "\n",
    "\n",
    "def getproxy(urlproxy):\n",
    "    headers = config['headers'] \n",
    "    response = requests.get(urlproxy, headers=headers)\n",
    "    if response.status_code == 200:\n",
    "        data = response.json()\n",
    "        for item in data['proxies']:\n",
    "            listip.append(item['ip'])\n",
    "            listport.append(item['port'])\n",
    "\n",
    "if __name__ == '__main__':\n",
    "    listip = []\n",
    "    listport = []\n",
    "    listproxy = []\n",
    "    for i in range(0, 1000, 15):\n",
    "        listproxy.append(urlproxy.format(i))\n",
    "\n",
    "    with ThreadPoolExecutor(max_workers=10) as executor:\n",
    "        executor.map(getproxy, listproxy)\n",
    "    df = pandas.DataFrame({'ip': listip, 'port': listport})\n",
    "\n",
    "    df.to_csv('./data/proxys.csv', index=False)"
   ]
  },
  {
   "cell_type": "code",
   "execution_count": null,
   "metadata": {},
   "outputs": [],
   "source": []
  }
 ],
 "metadata": {
  "kernelspec": {
   "display_name": ".venv",
   "language": "python",
   "name": "python3"
  },
  "language_info": {
   "codemirror_mode": {
    "name": "ipython",
    "version": 3
   },
   "file_extension": ".py",
   "mimetype": "text/x-python",
   "name": "python",
   "nbconvert_exporter": "python",
   "pygments_lexer": "ipython3",
   "version": "3.12.4"
  }
 },
 "nbformat": 4,
 "nbformat_minor": 2
}
